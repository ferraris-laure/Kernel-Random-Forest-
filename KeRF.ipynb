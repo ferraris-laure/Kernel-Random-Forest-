{
 "cells": [
  {
   "cell_type": "markdown",
   "id": "d628841e",
   "metadata": {},
   "source": [
    "# Les forêts aléatoires & leurs estimateurs à noyaux\n",
    "**Contributeurs :** *Laure Ferraris, Paul Liautaud*\n",
    "\n",
    "Ce notebook est dédié à l'implémentation et à l'évaluation de performances de différentes forêts aléatoires (alias RF) vues au fil du cours, à savoir :\n",
    "- les RF de Breiman ;\n",
    "- les RF centrées.\n",
    "\n",
    "$\\hookrightarrow$ *Le but sera également d'implémenter les estimateurs KeRF associés, souvent fournissant de meilleures estimations au regard des RF classiques.*\n",
    "\n",
    "Dans toute la suite et de façon générale (sauf spécification), on considère un jeu de données $\\mathcal{D}_n = (\\mathbf{X}_i, Y_i)_{1 \\leq i \\leq n}$, comme établi sur le polycopié associé. \n",
    "\n",
    "Commençons par quelques lignes de codes nécessaires, avec l'implémentation de $2$ fonctions d'erreur quadratique (erreur $L^2$) :"
   ]
  },
  {
   "cell_type": "code",
   "execution_count": 1,
   "id": "57d94e20-6a22-40a0-a2c9-b29c365e7128",
   "metadata": {},
   "outputs": [],
   "source": [
    "import numpy as np\n",
    "import matplotlib.pyplot as plt\n",
    "from matplotlib.gridspec import GridSpec\n",
    "from sklearn.model_selection import train_test_split\n",
    "from sklearn.ensemble import RandomForestRegressor\n",
    "\n",
    "%matplotlib inline\n",
    "\n",
    "def MSE(pred, Y):\n",
    "    return(np.mean((pred-Y)**2))\n",
    "\n",
    "def MSE_MC(Pred, Y):\n",
    "    Err = []\n",
    "    for ele in Pred:\n",
    "        Err.append(np.mean((ele-Y)**2))\n",
    "    return(Err)"
   ]
  },
  {
   "cell_type": "markdown",
   "id": "543dc443",
   "metadata": {},
   "source": [
    "## Arbres et forêts aléatoires centrés\n",
    "\n",
    "### L'arbre centré :\n",
    "\n",
    "On réfère au cours associé pour comprendre la construction de cet arbre. Une proposition d'implémentation pour un arbre centré `Centred_Tree` qui prend en arguments $2$ matrices d'observations `X_target`,`X_train` et le niveau $k$ de l'arbre :"
   ]
  },
  {
   "cell_type": "code",
   "execution_count": 2,
   "id": "b5f42dda-5b85-4779-a398-f9b6044167e8",
   "metadata": {},
   "outputs": [],
   "source": [
    "def Centred_Tree(X_target, X_train, k):\n",
    "    ''' About input : Matrix of X_target (BE CAREFULL it doesn't work for a single vector.)\n",
    "        Return : List (length of X_target.shape[0]) of list of indexes (indicating data connected to x_target).\n",
    "        More info : we don't set the seed here as it will be done in the centred forest\n",
    "    '''\n",
    "    N = X_train.shape[0]\n",
    "    d = X_train.shape[1]\n",
    "    I   = np.random.randint(0, d, size = k)\n",
    "    K_j = [(I == d_i).sum() for d_i in np.arange(d)]\n",
    "    IDX = [] \n",
    "    for x in X_target:\n",
    "        Idx = []\n",
    "        for n in np.arange(N):\n",
    "            x_train    = X_train[n]\n",
    "            i          = 0\n",
    "            while True: \n",
    "                crit_train = np.ceil(x_train[i]*2**K_j[i])\n",
    "                crit       = np.ceil(x[i]*2**K_j[i])\n",
    "                if crit_train != crit :\n",
    "                    break\n",
    "                i += 1\n",
    "                if i == d:\n",
    "                    Idx.append(n)\n",
    "                    break\n",
    "        IDX.append(Idx)\n",
    "    return IDX"
   ]
  },
  {
   "cell_type": "markdown",
   "id": "5e9f90d1",
   "metadata": {},
   "source": [
    "On en déduit une prédiction par forêt aléatoire, à $M$ arbres centrés de niveau $k$ sur un jeu de données (`X_train`, `Y_train`) $\\in [0;1]^{n \\times d} \\times \\mathbb{R}^n$ :"
   ]
  },
  {
   "cell_type": "code",
   "execution_count": 3,
   "id": "1547b375-47cc-4f98-8536-3f4bb4914069",
   "metadata": {},
   "outputs": [],
   "source": [
    "def Centred_Forest(X_target, X_train, k, M, bootstrap = False, max_samples = None, seed=0):   \n",
    "    np.random.seed(seed) #seed to compare RF and KeRF performances\n",
    "    IDX = []\n",
    "    for m in np.arange(M):\n",
    "        IDX.append([])\n",
    "    #Boostrapping\n",
    "        if bootstrap == True and max_samples == None:\n",
    "            I_train  = np.random.choice(np.arange(X_train.shape[0]), size = X_train.shape[0])\n",
    "            S_train  = X_train[I_train]\n",
    "        elif type(max_samples) == int:\n",
    "            if max_samples == 0:\n",
    "                I_train  = np.arange(X_train.shape[0])\n",
    "                S_train  = X_train\n",
    "            else:   \n",
    "                I_train  = np.random.choice(np.arange(X_train.shape[0]), size = max_samples)\n",
    "                S_train  = X_train[I_train]\n",
    "        elif type(max_samples) == float:\n",
    "            I_train  = np.random.choice(np.arange(X_train.shape[0]), size = int(max_samples * X_train.shape[0]))\n",
    "            S_train  = X_train[I_train]\n",
    "        elif bootstrap == False:\n",
    "            I_train  = np.arange(X_train.shape[0])\n",
    "            S_train  = X_train\n",
    "            \n",
    "    #Construction of the Tree\n",
    "        Idx = Centred_Tree(X_target, S_train, k) #Idx : LIST of list of indexes\n",
    "        for ele in Idx:\n",
    "             IDX[-1].append(list(I_train[ele]))#convertion of indexes from S_train to X_train\n",
    "    return(IDX)#IDX : LIST of list of list of indexes: shape(np_trees, X_target.shape[0])"
   ]
  },
  {
   "cell_type": "markdown",
   "id": "14f69b71",
   "metadata": {},
   "source": [
    "### Estimateurs RF centrée et KeRF centré\n",
    "\n",
    "On construit ici les fonctions *estimateurs forêt* et *estimateur forêt à noyau* à partir de la même forêt dans les $2$ cas, et en utilisant la fonction `Centred_Forest`.\n",
    "Voici les $2$ fonctions estimatrices (`Centred_RFreg` vs `Centred_KeRFreg`) de la fonction de régression :"
   ]
  },
  {
   "cell_type": "code",
   "execution_count": 4,
   "id": "90778ea3-72b9-401e-b42a-9dbabde41e5b",
   "metadata": {},
   "outputs": [],
   "source": [
    "def Centred_RFreg(I, Y_train):\n",
    "    '''\n",
    "    I is a list(m_tree) of list(X_target.shape[0]) : seen as the forest\n",
    "    of a list(idx of data connected to x_target) returned by Centred_Forest\n",
    "    '''\n",
    "    RF = []\n",
    "    for IDX in I:\n",
    "        RF.append([])\n",
    "        for Idx in IDX:\n",
    "            if len(Idx) == 0:\n",
    "                RF[-1].append(0) #by convention, for each tree if the cell of x is empty, tree's estimation is set to 0\n",
    "            else:\n",
    "                RF[-1].append(np.sum(Y_train[Idx]) / len(Idx))  \n",
    "    Pred_RFCentred = np.mean(RF, axis=0)\n",
    "    return(Pred_RFCentred)\n",
    "\n",
    "def Centred_KeRFreg(I, Y_train):\n",
    "    '''\n",
    "    I is a list(m_tree) of list(X_target.shape[0]) : seen as forest \n",
    "    of a list(idx of data connected to x_target) returned by Centred_Forest\n",
    "    '''\n",
    "    Pred_KeRFCentred = []\n",
    "    Sum_Y = np.zeros(len(I[0]))\n",
    "    Sum_N = np.zeros(len(I[0]))\n",
    "    for IDX in I:\n",
    "        for l, Idx in enumerate(IDX):\n",
    "            if len(Idx) == 0:\n",
    "                continue\n",
    "            else:\n",
    "                Sum_Y[l] += np.sum(Y_train[Idx])\n",
    "                Sum_N[l] += len(Idx)\n",
    "            \n",
    "    for l in np.arange(len(Sum_N)):\n",
    "        if Sum_N[l]==0:\n",
    "            Pred_KeRFCentred.append(0)\n",
    "        else:\n",
    "            Pred_KeRFCentred.append(Sum_Y[l]/Sum_N[l])\n",
    "    Pred_KeRFCentred = np.array(Pred_KeRFCentred)\n",
    "    return(Pred_KeRFCentred)"
   ]
  },
  {
   "cell_type": "markdown",
   "id": "d4e72feb",
   "metadata": {},
   "source": [
    "# Étude et comparaison des estimateurs centrés sur 2 modèles\n",
    "\n",
    "On considère des v.a. multivariées $\\mathbf X = (X_1,...,X_d)$ uniformément distribuées sur $[0,1]^d$ et la transformation linéaire $\\tilde{ \\mathbf X} = 2 \\mathbf X - \\mathbb 1,$ où $\\mathbb 1 = (1,\\dots, 1)\\in \\mathbb R^d$.\n",
    "\n",
    "Pour comparer les performances de chaque estimateur, nous nous baseront sur les $2$ modèles suivants :\n",
    "- *Modèle 1*:  $n=800$, $d=2$, $Y= \\tilde{X}_1^2+\\exp(-\\tilde{X}_2^2)$;\n",
    "- *Modèle 2*: $n=600$, $d=100$, $Y=\\tilde{X}_1\\tilde{X}_2 + \\tilde{X}_3^2 - \\tilde{X}_4\\tilde{X}_7 + \\tilde{X}_8\\tilde{X}_{10} - \\tilde{X}_6^2 + \\mathcal{N}(0,0.5)$.\n",
    "\n",
    "## Modèle 1"
   ]
  },
  {
   "cell_type": "code",
   "execution_count": 5,
   "id": "e0d3be23-5974-42de-8644-35a05d9a532e",
   "metadata": {},
   "outputs": [],
   "source": [
    "#Fixation de la seed\n",
    "np.random.seed(1)\n",
    "\n",
    "#Paramètres du modèle\n",
    "N = 800\n",
    "d = 2\n",
    "\n",
    "#Données\n",
    "X = np.random.rand(N, d)\n",
    "X_tild  = 2*X - 1\n",
    "Y = 2*(X_tild[:,0]) + np.exp(-(X_tild[:,1]**2)) \n",
    "\n",
    "#Découpage données\n",
    "X_train, X_test, Y_train, Y_test = train_test_split(X, Y, test_size=0.2, random_state=42)\n",
    "\n",
    "#Paramètres de la forêt\n",
    "k   = int(np.log2(N))\n",
    "M_tree = np.r_[1, 50, np.arange(100, 510, 100)]\n",
    "MTREE   = 500"
   ]
  },
  {
   "cell_type": "markdown",
   "id": "2c8dae75",
   "metadata": {},
   "source": [
    "### Construction de la forêt centrée et des estimateurs\n",
    "\n",
    "Notez que la prochaine cellule peut prendre un peu de temps..."
   ]
  },
  {
   "cell_type": "code",
   "execution_count": 6,
   "id": "d7484d11",
   "metadata": {},
   "outputs": [],
   "source": [
    "#Construction de la forêt sur les données d'entraînement\n",
    "I1 = Centred_Forest(X_test, X_train, k, MTREE)  #Model 1"
   ]
  },
  {
   "cell_type": "code",
   "execution_count": 7,
   "id": "c0706ced",
   "metadata": {},
   "outputs": [],
   "source": [
    "#Calcul de l'estimateur RF sur la forêt I1\n",
    "Pred_RFCentred1 = []\n",
    "for m in M_tree:\n",
    "    Pred_RFCentred1.append(Centred_RFreg(I1[:m], Y_train))\n",
    "Err_RFCentred1 = MSE_MC(Pred_RFCentred1, Y_test)   \n",
    "\n",
    "#Calcul de l'estimateur KeRF sur la forêt I1\n",
    "Pred_KeRFCentred1 = []\n",
    "for m in M_tree:\n",
    "    Pred_KeRFCentred1.append(Centred_KeRFreg(I1[:m], Y_train))\n",
    "Err_KeRFCentred1 = MSE_MC(Pred_KeRFCentred1, Y_test)"
   ]
  },
  {
   "cell_type": "markdown",
   "id": "01af34b2",
   "metadata": {},
   "source": [
    "### Comparaison avec l'estimation de Breiman"
   ]
  },
  {
   "cell_type": "code",
   "execution_count": 8,
   "id": "ab886106",
   "metadata": {},
   "outputs": [],
   "source": [
    "#Calcul de l'estimateur RF Breiman sur la forêt I1\n",
    "pred_RFBreiman1 = []\n",
    "for M in M_tree:\n",
    "    reg = RandomForestRegressor(n_estimators=M, max_features=0.333, bootstrap=False, random_state=0)\n",
    "    reg.fit(X_train, Y_train)\n",
    "    pred_RFBreiman1.append(reg.predict(X_test))\n",
    "Err_BreimRF1 = MSE_MC(pred_RFBreiman1, Y_test)"
   ]
  },
  {
   "cell_type": "markdown",
   "id": "6514b67d",
   "metadata": {},
   "source": [
    "### Erreur $L^2$ pour le modèle 1"
   ]
  },
  {
   "cell_type": "code",
   "execution_count": 29,
   "id": "d8992a31",
   "metadata": {},
   "outputs": [
    {
     "data": {
      "image/png": "[encoded data removed]",
      "text/plain": [
       "<Figure size 432x288 with 1 Axes>"
      ]
     },
     "metadata": {
      "needs_background": "light"
     },
     "output_type": "display_data"
    }
   ],
   "source": [
    "fig, ax = plt.subplots(figsize=(6,4))\n",
    "ax.plot(M_tree, Err_RFCentred1, \"b\", label='RF centrée')\n",
    "ax.scatter(M_tree, Err_RFCentred1, color=\"b\")\n",
    "ax.plot(M_tree, Err_KeRFCentred1, '--c', label='KeRF centré')\n",
    "ax.scatter(M_tree, Err_KeRFCentred1, color=\"c\")\n",
    "ax.plot(M_tree, Err_BreimRF1, \"r\", label='RF Breiman')\n",
    "ax.scatter(M_tree, Err_BreimRF1, color=\"r\", marker=\"d\")\n",
    "ax.set_xlabel(\"Nombre d'arbres\")\n",
    "ax.set_ylabel(r'Erreur $L^2$')\n",
    "ax.set_title('Modèle 1')\n",
    "ax.legend()"
   ]
  },
  {
   "cell_type": "markdown",
   "id": "b0931b45-3da6-4225-a34a-da665bbb193d",
   "metadata": {},
   "source": [
    "## Modèle 2"
   ]
  },
  {
   "cell_type": "code",
   "execution_count": 10,
   "id": "b3a1877f",
   "metadata": {},
   "outputs": [],
   "source": [
    "#Fixation de la seed\n",
    "np.random.seed(1)\n",
    "\n",
    "#Paramètres du modèle\n",
    "N = 600\n",
    "d = 100\n",
    "\n",
    "#Données\n",
    "X = np.random.rand(N, d)\n",
    "X_tild  = 2*X - 1\n",
    "Y = X_tild[:,0]*X_tild[:,1] + X_tild[:,2]**2 - X_tild[:,3]*X_tild[:,6] + X_tild[:,7]*X_tild[:,9] - X_tild[:,5]**2 + np.sqrt(0.5)*np.random.randn(N)\n",
    "\n",
    "#Découpage données\n",
    "X_train_2, X_test_2, Y_train_2, Y_test_2 = train_test_split(X, Y, test_size=0.2, random_state=42)\n",
    "\n",
    "#Paramètres de la forêt\n",
    "k   = int(np.log2(N))\n",
    "M_tree = np.r_[1, 50, np.arange(100, 510, 100)]\n",
    "MTREE   = 500"
   ]
  },
  {
   "cell_type": "markdown",
   "id": "7450dec5",
   "metadata": {},
   "source": [
    "### Construction de la forêt centrée et des estimateurs\n",
    "\n",
    "Notez que l'exécution la prochaine cellule peut prendre un peu de temps..."
   ]
  },
  {
   "cell_type": "code",
   "execution_count": 11,
   "id": "eb55bbb7",
   "metadata": {
    "scrolled": false
   },
   "outputs": [],
   "source": [
    "#Construction de la forêt sur les données d'entraînement\n",
    "I2 = Centred_Forest(X_test_2, X_train_2, k, MTREE)  #Model 1"
   ]
  },
  {
   "cell_type": "code",
   "execution_count": 12,
   "id": "8d01ed5d",
   "metadata": {},
   "outputs": [],
   "source": [
    "#Calcul de l'estimateur RF sur la forêt I2\n",
    "Pred_RFCentred2 = []\n",
    "for m in M_tree:\n",
    "    Pred_RFCentred2.append(Centred_RFreg(I2[:m], Y_train_2))\n",
    "Err_RFCentred2 = MSE_MC(Pred_RFCentred2, Y_test_2)   \n",
    "\n",
    "#Calcul de l'estimateur KeRF sur la forêt I2\n",
    "Pred_KeRFCentred2 = []\n",
    "for m in M_tree:\n",
    "    Pred_KeRFCentred2.append(Centred_KeRFreg(I2[:m], Y_train_2))\n",
    "Err_KeRFCentred2 = MSE_MC(Pred_KeRFCentred2, Y_test_2)"
   ]
  },
  {
   "cell_type": "markdown",
   "id": "2210328e",
   "metadata": {},
   "source": [
    "### Comparaison avec l'estimation de Breiman"
   ]
  },
  {
   "cell_type": "code",
   "execution_count": 13,
   "id": "adaf0491",
   "metadata": {},
   "outputs": [],
   "source": [
    "#Calcul de l'estimateur RF Breiman sur la forêt I1\n",
    "pred_RFBreiman2 = []\n",
    "for M in M_tree:\n",
    "    reg = RandomForestRegressor(n_estimators=M, max_features=0.333, bootstrap=False, random_state=0)\n",
    "    reg.fit(X_train_2, Y_train_2)\n",
    "    pred_RFBreiman2.append(reg.predict(X_test_2))\n",
    "Err_BreimRF2 = MSE_MC(pred_RFBreiman2, Y_test_2)"
   ]
  },
  {
   "cell_type": "markdown",
   "id": "faa8319a",
   "metadata": {},
   "source": [
    "### Erreur $L^2$ pour le modèle 2"
   ]
  },
  {
   "cell_type": "code",
   "execution_count": 30,
   "id": "376f4e2d",
   "metadata": {},
   "outputs": [
    {
     "data": {
      "image/png": "[encoded data removed]",
      "text/plain": [
       "<Figure size 432x288 with 1 Axes>"
      ]
     },
     "metadata": {
      "needs_background": "light"
     },
     "output_type": "display_data"
    }
   ],
   "source": [
    "fig, ax = plt.subplots(figsize=(6,4))\n",
    "ax.plot(M_tree, Err_RFCentred2, \"b\", label='RF centrée')\n",
    "ax.scatter(M_tree, Err_RFCentred2, color=\"b\")\n",
    "ax.plot(M_tree, Err_KeRFCentred2, '--c', label='KeRF centré')\n",
    "ax.scatter(M_tree, Err_KeRFCentred2, color=\"c\")\n",
    "ax.plot(M_tree, Err_BreimRF2, \"r\", label='RF Breiman')\n",
    "ax.scatter(M_tree, Err_BreimRF2, color=\"r\", marker=\"d\")\n",
    "ax.set_xlabel(\"Nombre d'arbres\")\n",
    "ax.set_ylabel(r'Erreur $L^2$')\n",
    "ax.set_title('Modèle 2')\n",
    "ax.legend()"
   ]
  },
  {
   "cell_type": "markdown",
   "id": "88b0559a",
   "metadata": {},
   "source": [
    "# Illustration des arbres en dimension $d=2$\n",
    "\n",
    "On considère $n = 200$ données aléatoires et multivariées de dimension $d=2$, telles que chaque donnée est telle que $\\mathbf X = (X_1,X_2)$ uniformément distribuées sur $[0,1]^2$.  \n",
    "\n",
    "On définit $\\tilde{\\mathbf X} \\in \\mathbb{R}^2$ tel que $\\forall 1 \\leq i \\leq n$, $$\\tilde{X_i} = 2(X_i - 0.5).$$\n",
    "Et on pose $$Y = \\tilde{X_1}^2 + \\exp\\left(-\\tilde{X_2}^2\\right).$$  \n",
    "Pour l'expérience, l'échantillon est divisé en un jeu d'entraînement ($80\\%$) et de test ($20\\%$)."
   ]
  },
  {
   "cell_type": "code",
   "execution_count": 15,
   "id": "b3a91cc7",
   "metadata": {},
   "outputs": [],
   "source": [
    "#Fixation seed\n",
    "np.random.seed(1)\n",
    "\n",
    "#Paramètres et définition du modèle\n",
    "N = 200\n",
    "d = 2\n",
    "X = np.random.rand(N, d)\n",
    "X_tild  = 2*X - 1\n",
    "Y = 2*(X_tild[:,0]) + np.exp(-(X_tild[:,1]**2)) \n",
    "k= int(np.log2(N))\n",
    "X_train, X_test, Y_train, Y_test = train_test_split(X, Y, test_size=0.2, random_state=42)"
   ]
  },
  {
   "cell_type": "markdown",
   "id": "689e827f",
   "metadata": {},
   "source": [
    "## Illustration avec des arbres centrés"
   ]
  },
  {
   "cell_type": "code",
   "execution_count": 16,
   "id": "bee9e6af",
   "metadata": {},
   "outputs": [],
   "source": [
    "X_target = X_test[:4,:]\n",
    "np.random.seed(0)\n",
    "IDX = Centred_Tree(X_target, X_train, k)"
   ]
  },
  {
   "cell_type": "code",
   "execution_count": 17,
   "id": "57c5865f",
   "metadata": {},
   "outputs": [
    {
     "data": {
      "image/png": "[encoded data removed]",
      "text/plain": [
       "<Figure size 1584x360 with 4 Axes>"
      ]
     },
     "metadata": {
      "needs_background": "light"
     },
     "output_type": "display_data"
    }
   ],
   "source": [
    "#Configuration de la figure\n",
    "gs = GridSpec(1, 4)  # 1 row, 4 columns\n",
    "fig = plt.figure(figsize=(22, 5))\n",
    "ax = [fig.add_subplot(pos) for pos in [gs[0, 0], gs[0, 1], gs[0, 2], gs[0, 3]]]\n",
    "\n",
    "#Plots\n",
    "for i, Idx in enumerate(IDX):\n",
    "    if len(Idx)==0:\n",
    "        pred = 0\n",
    "    else:\n",
    "        pred = np.sum(Y_train[Idx])/len(Idx)\n",
    "    ax[i].scatter(X_train[:, 0], X_train[:, 1], color='grey', marker=\".\", alpha=0.5)\n",
    "    ax[i].scatter(X_train[Idx, 0], X_train[Idx, 1], label=f\"data : {Idx}\")\n",
    "    ax[i].set_xlim(0,1)\n",
    "    ax[i].set_ylim(0,1)\n",
    "    #ax[i].grid()\n",
    "    ax[i].scatter(X_target[i, 0], X_target[i, 1], color='red')\n",
    "    ax[i].legend(loc=\"best\")\n",
    "    ax[i].set_title(fr\"$\\hat y =$ {pred:.2f}, $y =$ {Y_test[i]:.2f}\")\n",
    "    \n",
    "plt.suptitle(\"Arbre de régression centré\", fontsize=10);"
   ]
  },
  {
   "cell_type": "markdown",
   "id": "c5336de1",
   "metadata": {},
   "source": [
    "## Exemple pathologique\n",
    "\n",
    "On se propose ici d'exposer le cas pathologique développé dans le polycopié de référence à ce notebook.\n",
    "\n",
    "Nous gardons le même modèle mais l'utilisateur est maintenant invité à choisir manuellement un point $\\mathbf x \\in [0;1]^2$ pour y faire une estimation par **$M$ *arbres centrés***."
   ]
  },
  {
   "cell_type": "code",
   "execution_count": 18,
   "id": "01dccea7",
   "metadata": {},
   "outputs": [],
   "source": [
    "#Fixation seed\n",
    "np.random.seed(1)\n",
    "\n",
    "#Paramètres et définition du modèle\n",
    "N = 200\n",
    "d = 2\n",
    "X = np.random.rand(N, d)\n",
    "X_tild  = 2*X - 1\n",
    "Y = 2*(X_tild[:,0]) + np.exp(-(X_tild[:,1]**2)) \n",
    "k= int(np.log2(N))\n",
    "X_train, X_test, Y_train, Y_test = train_test_split(X, Y, test_size=0.2, random_state=42)"
   ]
  },
  {
   "cell_type": "code",
   "execution_count": 19,
   "id": "993640e0",
   "metadata": {},
   "outputs": [],
   "source": [
    "#Choix du nombre d'arbres\n",
    "M = 4\n",
    "\n",
    "#Choix du point à estimer\n",
    "x = np.array([.9,.6])\n",
    "\n",
    "#Construction de M arbres décisionnels centrés pour prédire m(x)\n",
    "x_tild = 2*x - 1\n",
    "y_true = 2*(x_tild[0]) + np.exp(-(x_tild[1]**2)) \n",
    "N = X.shape[0]\n",
    "d = X.shape[1]\n",
    "\n",
    "INDEX = []\n",
    "for m in np.arange(M):\n",
    "    I   = np.random.randint(0, d, size = k)\n",
    "    K_j = [(I == d_i).sum() for d_i in np.arange(d)]\n",
    "    Ix = []\n",
    "    for n in np.arange(N):\n",
    "        x_train    = X[n]\n",
    "        i          = 0\n",
    "        while True: \n",
    "            crit_train = np.ceil(x_train[i]*2**K_j[i])\n",
    "            crit       = np.ceil(x[i]*2**K_j[i])\n",
    "            if crit_train != crit :\n",
    "                break\n",
    "            i += 1\n",
    "            if i == d:\n",
    "                Ix.append(n)\n",
    "                break\n",
    "    INDEX.append(Ix)"
   ]
  },
  {
   "cell_type": "code",
   "execution_count": 20,
   "id": "02db9785",
   "metadata": {},
   "outputs": [
    {
     "data": {
      "image/png": "[encoded data removed]",
      "text/plain": [
       "<Figure size 1152x288 with 4 Axes>"
      ]
     },
     "metadata": {
      "needs_background": "light"
     },
     "output_type": "display_data"
    }
   ],
   "source": [
    "#Configuration fenêtre\n",
    "gs = GridSpec(1, 4)  # 1 row, 4 columns\n",
    "fig = plt.figure(figsize=(16, 4))\n",
    "ax = [fig.add_subplot(pos) for pos in [gs[0, 0], gs[0, 1], gs[0, 2], gs[0, 3]]] \n",
    "\n",
    "#Prédiction\n",
    "for i, Idx in enumerate(INDEX):\n",
    "    if len(Idx)==0:\n",
    "        pred = 0\n",
    "    else:\n",
    "        pred = np.sum(Y[Idx])/len(Idx)  \n",
    "    y_vals = [\"{:0.1f}\".format(y) for y in Y[Idx]]\n",
    "    ax[i].scatter(X[:, 0], X[:, 1], color='grey', marker=\".\", alpha=0.5)\n",
    "    ax[i].scatter(X[Idx, 0], X[Idx, 1], label= y_vals)\n",
    "    ax[i].set_xlim(0,1)\n",
    "    ax[i].set_ylim(0,1)\n",
    "    #ax[i].grid()\n",
    "    ax[i].scatter(x[0], x[1], color='red')\n",
    "    ax[i].legend(loc=\"upper right\")\n",
    "    ax[i].set_title(fr\" y_pred =  {pred:.1f}, $y = $ {y_true:.1f}\")\n",
    "    bboxprops = dict(boxstyle=\"round\", facecolor=\"white\", edgecolor=\"0.5\", alpha=0.9)\n",
    "    ax[i].text(0.85, 0.1, f'{i+1}', horizontalalignment=\"center\",\n",
    "        verticalalignment=\"center\", fontsize=11, color='red', bbox=bboxprops);"
   ]
  },
  {
   "cell_type": "markdown",
   "id": "0e2ef1cc",
   "metadata": {},
   "source": [
    "# -- Annexe --\n",
    "\n",
    "Pour finir, on fournit du matériel de code pour les fans de forêts aléatoires souhaitant s'amuser à dessiner manuellement des figures d'arbres/partitionnement sur le plan :"
   ]
  },
  {
   "cell_type": "code",
   "execution_count": 21,
   "id": "ad7cfe24",
   "metadata": {},
   "outputs": [],
   "source": [
    "x1 = np.linspace(0.1, 0.9, 20)\n",
    "x2 = np.linspace(0.1, 0.9, 20)\n",
    "i1 = [9, 10, 4, 0, 19, 6, 8, 7, 18, 17, 1, 3, 5, 16, 11, 13, 15, 14, 2, 12]\n",
    "x1 = x1[i1]\n",
    "Y = np.random.randint(0,100,20)\n",
    "y_val = [str(y) for y in Y]"
   ]
  },
  {
   "cell_type": "code",
   "execution_count": 22,
   "id": "6d147d8e",
   "metadata": {
    "scrolled": true
   },
   "outputs": [
    {
     "data": {
      "image/png": "[encoded data removed]",
      "text/plain": [
       "<Figure size 360x360 with 1 Axes>"
      ]
     },
     "metadata": {
      "needs_background": "light"
     },
     "output_type": "display_data"
    }
   ],
   "source": [
    "#Configuration figure\n",
    "fig, ax = plt.subplots(figsize=(5,5))\n",
    "\n",
    "#Plots\n",
    "ax.plot(x1, x2, linestyle='', color='k', linewidth=2, marker='.', markersize=7)\n",
    "for k in range(len(Y)):\n",
    "    ax.text(x1[k], x2[k], y_val[k])\n",
    "    \n",
    "ax.set_xlim(0.0, 1.)  # Set x limits\n",
    "ax.set_xticks([0, 1])\n",
    "ax.set_ylim(0.0, 1)\n",
    "ax.set_yticks([0,1]);\n",
    "ax.plot([0, 1], [0.6, 0.6])\n",
    "ax.plot([0.8,0.8], [0, 0.6])\n",
    "\n",
    "ax.set_title(\"Un arbre à la main\")\n",
    "\n",
    "#Boxes pour la numérotation des cellules\n",
    "bboxprops = dict(boxstyle=\"round\", facecolor=\"white\", edgecolor=\"0.5\", alpha=0.9)\n",
    "ax.text(0.85, 0.1, r'3', horizontalalignment=\"center\",\n",
    "        verticalalignment=\"center\", fontsize=11, color='red', bbox=bboxprops);"
   ]
  }
 ],
 "metadata": {
  "kernelspec": {
   "display_name": "Python 3 (ipykernel)",
   "language": "python",
   "name": "python3"
  },
  "language_info": {
   "codemirror_mode": {
    "name": "ipython",
    "version": 3
   },
   "file_extension": ".py",
   "mimetype": "text/x-python",
   "name": "python",
   "nbconvert_exporter": "python",
   "pygments_lexer": "ipython3",
   "version": "3.9.7"
  }
 },
 "nbformat": 4,
 "nbformat_minor": 5
}
